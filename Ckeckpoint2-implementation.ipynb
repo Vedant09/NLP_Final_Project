{
  "cells": [
    {
      "cell_type": "code",
      "execution_count": 15,
      "metadata": {
        "colab": {
          "base_uri": "https://localhost:8080/"
        },
        "id": "FoaaRgwShOEU",
        "outputId": "742dcc63-5e12-4b32-a3eb-cd0e8c977858"
      },
      "outputs": [
        {
          "output_type": "stream",
          "name": "stdout",
          "text": [
            "Drive already mounted at /content/drive; to attempt to forcibly remount, call drive.mount(\"/content/drive\", force_remount=True).\n"
          ]
        }
      ],
      "source": [
        "from google.colab import drive\n",
        "drive.mount('/content/drive')\n"
      ]
    },
    {
      "cell_type": "code",
      "execution_count": 16,
      "metadata": {
        "id": "mWJsW65FhaA0"
      },
      "outputs": [],
      "source": [
        "folder_path = '/content/drive/MyDrive/T5-Sentinel-public'"
      ]
    },
    {
      "cell_type": "code",
      "execution_count": 17,
      "metadata": {
        "colab": {
          "base_uri": "https://localhost:8080/"
        },
        "id": "caSFFwd2hhN8",
        "outputId": "5a92a711-406c-4170-bd21-1e14c0347f9c"
      },
      "outputs": [
        {
          "output_type": "stream",
          "name": "stdout",
          "text": [
            "['.gitignore', 'README.md', 'LICENSE', 'memoizer', 'cache', 'result', 'evaluator', 'pipeline', '.git', 'generator', 'data', 'detector', 'requirements.txt', 'temp_result.txt', 'wandb', 'storage', 'confusion_matrix.png']\n"
          ]
        }
      ],
      "source": [
        "import os\n",
        "files = os.listdir(folder_path)\n",
        "print(files)"
      ]
    },
    {
      "cell_type": "code",
      "execution_count": 18,
      "metadata": {
        "colab": {
          "base_uri": "https://localhost:8080/"
        },
        "id": "zoXw0rtPhnTZ",
        "outputId": "2d099ac4-4a88-4a33-babc-5db19a387fd7"
      },
      "outputs": [
        {
          "output_type": "stream",
          "name": "stdout",
          "text": [
            "/content/drive/MyDrive/T5-Sentinel-public\n"
          ]
        }
      ],
      "source": [
        "%cd /content/drive/MyDrive/T5-Sentinel-public\n"
      ]
    },
    {
      "cell_type": "code",
      "execution_count": null,
      "metadata": {
        "colab": {
          "base_uri": "https://localhost:8080/",
          "height": 35
        },
        "id": "PJsNNjSEhrvF",
        "outputId": "a3633375-8d82-4666-a76a-5e0168890859"
      },
      "outputs": [
        {
          "output_type": "execute_result",
          "data": {
            "text/plain": [
              "'/content/drive/MyDrive/T5-Sentinel-public'"
            ],
            "application/vnd.google.colaboratory.intrinsic+json": {
              "type": "string"
            }
          },
          "metadata": {},
          "execution_count": 5
        }
      ],
      "source": [
        "%pwd"
      ]
    },
    {
      "cell_type": "code",
      "execution_count": null,
      "metadata": {
        "colab": {
          "base_uri": "https://localhost:8080/"
        },
        "id": "NXkvq0aMhthf",
        "outputId": "af1d5cea-774c-4e23-8b6c-a115badf5e21"
      },
      "outputs": [
        {
          "output_type": "stream",
          "name": "stdout",
          "text": [
            "Requirement already satisfied: aiohttp==3.9.1 in /usr/local/lib/python3.10/dist-packages (from -r requirements.txt (line 1)) (3.9.1)\n",
            "Requirement already satisfied: bardapi==0.1.38 in /usr/local/lib/python3.10/dist-packages (from -r requirements.txt (line 2)) (0.1.38)\n",
            "Requirement already satisfied: click==8.1.7 in /usr/local/lib/python3.10/dist-packages (from -r requirements.txt (line 3)) (8.1.7)\n",
            "Requirement already satisfied: matplotlib==3.7.4 in /usr/local/lib/python3.10/dist-packages (from -r requirements.txt (line 4)) (3.7.4)\n",
            "Requirement already satisfied: nltk==3.8.1 in /usr/local/lib/python3.10/dist-packages (from -r requirements.txt (line 5)) (3.8.1)\n",
            "Requirement already satisfied: numpy==1.24.4 in /usr/local/lib/python3.10/dist-packages (from -r requirements.txt (line 6)) (1.24.4)\n",
            "Requirement already satisfied: openai==1.6.1 in /usr/local/lib/python3.10/dist-packages (from -r requirements.txt (line 7)) (1.6.1)\n",
            "Requirement already satisfied: protobuf==4.25.1 in /usr/local/lib/python3.10/dist-packages (from -r requirements.txt (line 8)) (4.25.1)\n",
            "Requirement already satisfied: pydantic==2.5.3 in /usr/local/lib/python3.10/dist-packages (from -r requirements.txt (line 9)) (2.5.3)\n",
            "Requirement already satisfied: PyYAML==6.0.1 in /usr/local/lib/python3.10/dist-packages (from -r requirements.txt (line 10)) (6.0.1)\n",
            "Requirement already satisfied: Requests==2.31.0 in /usr/local/lib/python3.10/dist-packages (from -r requirements.txt (line 11)) (2.31.0)\n",
            "Requirement already satisfied: scikit_learn==1.3.2 in /usr/local/lib/python3.10/dist-packages (from -r requirements.txt (line 12)) (1.3.2)\n",
            "Requirement already satisfied: seaborn==0.13.1 in /usr/local/lib/python3.10/dist-packages (from -r requirements.txt (line 13)) (0.13.1)\n",
            "Requirement already satisfied: torch==2.1.2 in /usr/local/lib/python3.10/dist-packages (from -r requirements.txt (line 14)) (2.1.2)\n",
            "Requirement already satisfied: tqdm==4.66.1 in /usr/local/lib/python3.10/dist-packages (from -r requirements.txt (line 15)) (4.66.1)\n",
            "Requirement already satisfied: transformers==4.36.2 in /usr/local/lib/python3.10/dist-packages (from -r requirements.txt (line 16)) (4.36.2)\n",
            "Requirement already satisfied: Unidecode==1.3.7 in /usr/local/lib/python3.10/dist-packages (from -r requirements.txt (line 17)) (1.3.7)\n",
            "Requirement already satisfied: vertexai==0.0.1 in /usr/local/lib/python3.10/dist-packages (from -r requirements.txt (line 18)) (0.0.1)\n",
            "Requirement already satisfied: wandb==0.16.1 in /usr/local/lib/python3.10/dist-packages (from -r requirements.txt (line 19)) (0.16.1)\n",
            "Requirement already satisfied: attrs>=17.3.0 in /usr/local/lib/python3.10/dist-packages (from aiohttp==3.9.1->-r requirements.txt (line 1)) (23.2.0)\n",
            "Requirement already satisfied: multidict<7.0,>=4.5 in /usr/local/lib/python3.10/dist-packages (from aiohttp==3.9.1->-r requirements.txt (line 1)) (6.0.5)\n",
            "Requirement already satisfied: yarl<2.0,>=1.0 in /usr/local/lib/python3.10/dist-packages (from aiohttp==3.9.1->-r requirements.txt (line 1)) (1.9.4)\n",
            "Requirement already satisfied: frozenlist>=1.1.1 in /usr/local/lib/python3.10/dist-packages (from aiohttp==3.9.1->-r requirements.txt (line 1)) (1.4.1)\n",
            "Requirement already satisfied: aiosignal>=1.1.2 in /usr/local/lib/python3.10/dist-packages (from aiohttp==3.9.1->-r requirements.txt (line 1)) (1.3.1)\n",
            "Requirement already satisfied: async-timeout<5.0,>=4.0 in /usr/local/lib/python3.10/dist-packages (from aiohttp==3.9.1->-r requirements.txt (line 1)) (4.0.3)\n",
            "Requirement already satisfied: httpx[http2]>=0.20.0 in /usr/local/lib/python3.10/dist-packages (from bardapi==0.1.38->-r requirements.txt (line 2)) (0.27.0)\n",
            "Requirement already satisfied: deep-translator in /usr/local/lib/python3.10/dist-packages (from bardapi==0.1.38->-r requirements.txt (line 2)) (1.11.4)\n",
            "Requirement already satisfied: colorama in /usr/local/lib/python3.10/dist-packages (from bardapi==0.1.38->-r requirements.txt (line 2)) (0.4.6)\n",
            "Requirement already satisfied: google-cloud-translate in /usr/local/lib/python3.10/dist-packages (from bardapi==0.1.38->-r requirements.txt (line 2)) (3.11.3)\n",
            "Requirement already satisfied: browser-cookie3 in /usr/local/lib/python3.10/dist-packages (from bardapi==0.1.38->-r requirements.txt (line 2)) (0.19.1)\n",
            "Requirement already satisfied: langdetect in /usr/local/lib/python3.10/dist-packages (from bardapi==0.1.38->-r requirements.txt (line 2)) (1.0.9)\n",
            "Requirement already satisfied: contourpy>=1.0.1 in /usr/local/lib/python3.10/dist-packages (from matplotlib==3.7.4->-r requirements.txt (line 4)) (1.2.1)\n",
            "Requirement already satisfied: cycler>=0.10 in /usr/local/lib/python3.10/dist-packages (from matplotlib==3.7.4->-r requirements.txt (line 4)) (0.12.1)\n",
            "Requirement already satisfied: fonttools>=4.22.0 in /usr/local/lib/python3.10/dist-packages (from matplotlib==3.7.4->-r requirements.txt (line 4)) (4.51.0)\n",
            "Requirement already satisfied: kiwisolver>=1.0.1 in /usr/local/lib/python3.10/dist-packages (from matplotlib==3.7.4->-r requirements.txt (line 4)) (1.4.5)\n",
            "Requirement already satisfied: packaging>=20.0 in /usr/local/lib/python3.10/dist-packages (from matplotlib==3.7.4->-r requirements.txt (line 4)) (24.0)\n",
            "Requirement already satisfied: pillow>=6.2.0 in /usr/local/lib/python3.10/dist-packages (from matplotlib==3.7.4->-r requirements.txt (line 4)) (9.4.0)\n",
            "Requirement already satisfied: pyparsing>=2.3.1 in /usr/local/lib/python3.10/dist-packages (from matplotlib==3.7.4->-r requirements.txt (line 4)) (3.1.2)\n",
            "Requirement already satisfied: python-dateutil>=2.7 in /usr/local/lib/python3.10/dist-packages (from matplotlib==3.7.4->-r requirements.txt (line 4)) (2.8.2)\n",
            "Requirement already satisfied: joblib in /usr/local/lib/python3.10/dist-packages (from nltk==3.8.1->-r requirements.txt (line 5)) (1.4.0)\n",
            "Requirement already satisfied: regex>=2021.8.3 in /usr/local/lib/python3.10/dist-packages (from nltk==3.8.1->-r requirements.txt (line 5)) (2023.12.25)\n",
            "Requirement already satisfied: anyio<5,>=3.5.0 in /usr/local/lib/python3.10/dist-packages (from openai==1.6.1->-r requirements.txt (line 7)) (3.7.1)\n",
            "Requirement already satisfied: distro<2,>=1.7.0 in /usr/lib/python3/dist-packages (from openai==1.6.1->-r requirements.txt (line 7)) (1.7.0)\n",
            "Requirement already satisfied: sniffio in /usr/local/lib/python3.10/dist-packages (from openai==1.6.1->-r requirements.txt (line 7)) (1.3.1)\n",
            "Requirement already satisfied: typing-extensions<5,>=4.7 in /usr/local/lib/python3.10/dist-packages (from openai==1.6.1->-r requirements.txt (line 7)) (4.11.0)\n",
            "Requirement already satisfied: annotated-types>=0.4.0 in /usr/local/lib/python3.10/dist-packages (from pydantic==2.5.3->-r requirements.txt (line 9)) (0.6.0)\n",
            "Requirement already satisfied: pydantic-core==2.14.6 in /usr/local/lib/python3.10/dist-packages (from pydantic==2.5.3->-r requirements.txt (line 9)) (2.14.6)\n",
            "Requirement already satisfied: charset-normalizer<4,>=2 in /usr/local/lib/python3.10/dist-packages (from Requests==2.31.0->-r requirements.txt (line 11)) (3.3.2)\n",
            "Requirement already satisfied: idna<4,>=2.5 in /usr/local/lib/python3.10/dist-packages (from Requests==2.31.0->-r requirements.txt (line 11)) (3.7)\n",
            "Requirement already satisfied: urllib3<3,>=1.21.1 in /usr/local/lib/python3.10/dist-packages (from Requests==2.31.0->-r requirements.txt (line 11)) (2.0.7)\n",
            "Requirement already satisfied: certifi>=2017.4.17 in /usr/local/lib/python3.10/dist-packages (from Requests==2.31.0->-r requirements.txt (line 11)) (2024.2.2)\n",
            "Requirement already satisfied: scipy>=1.5.0 in /usr/local/lib/python3.10/dist-packages (from scikit_learn==1.3.2->-r requirements.txt (line 12)) (1.11.4)\n",
            "Requirement already satisfied: threadpoolctl>=2.0.0 in /usr/local/lib/python3.10/dist-packages (from scikit_learn==1.3.2->-r requirements.txt (line 12)) (3.5.0)\n",
            "Requirement already satisfied: pandas>=1.2 in /usr/local/lib/python3.10/dist-packages (from seaborn==0.13.1->-r requirements.txt (line 13)) (2.0.3)\n",
            "Requirement already satisfied: filelock in /usr/local/lib/python3.10/dist-packages (from torch==2.1.2->-r requirements.txt (line 14)) (3.14.0)\n",
            "Requirement already satisfied: sympy in /usr/local/lib/python3.10/dist-packages (from torch==2.1.2->-r requirements.txt (line 14)) (1.12)\n",
            "Requirement already satisfied: networkx in /usr/local/lib/python3.10/dist-packages (from torch==2.1.2->-r requirements.txt (line 14)) (3.3)\n",
            "Requirement already satisfied: jinja2 in /usr/local/lib/python3.10/dist-packages (from torch==2.1.2->-r requirements.txt (line 14)) (3.1.3)\n",
            "Requirement already satisfied: fsspec in /usr/local/lib/python3.10/dist-packages (from torch==2.1.2->-r requirements.txt (line 14)) (2023.6.0)\n",
            "Requirement already satisfied: nvidia-cuda-nvrtc-cu12==12.1.105 in /usr/local/lib/python3.10/dist-packages (from torch==2.1.2->-r requirements.txt (line 14)) (12.1.105)\n",
            "Requirement already satisfied: nvidia-cuda-runtime-cu12==12.1.105 in /usr/local/lib/python3.10/dist-packages (from torch==2.1.2->-r requirements.txt (line 14)) (12.1.105)\n",
            "Requirement already satisfied: nvidia-cuda-cupti-cu12==12.1.105 in /usr/local/lib/python3.10/dist-packages (from torch==2.1.2->-r requirements.txt (line 14)) (12.1.105)\n",
            "Requirement already satisfied: nvidia-cudnn-cu12==8.9.2.26 in /usr/local/lib/python3.10/dist-packages (from torch==2.1.2->-r requirements.txt (line 14)) (8.9.2.26)\n",
            "Requirement already satisfied: nvidia-cublas-cu12==12.1.3.1 in /usr/local/lib/python3.10/dist-packages (from torch==2.1.2->-r requirements.txt (line 14)) (12.1.3.1)\n",
            "Requirement already satisfied: nvidia-cufft-cu12==11.0.2.54 in /usr/local/lib/python3.10/dist-packages (from torch==2.1.2->-r requirements.txt (line 14)) (11.0.2.54)\n",
            "Requirement already satisfied: nvidia-curand-cu12==10.3.2.106 in /usr/local/lib/python3.10/dist-packages (from torch==2.1.2->-r requirements.txt (line 14)) (10.3.2.106)\n",
            "Requirement already satisfied: nvidia-cusolver-cu12==11.4.5.107 in /usr/local/lib/python3.10/dist-packages (from torch==2.1.2->-r requirements.txt (line 14)) (11.4.5.107)\n",
            "Requirement already satisfied: nvidia-cusparse-cu12==12.1.0.106 in /usr/local/lib/python3.10/dist-packages (from torch==2.1.2->-r requirements.txt (line 14)) (12.1.0.106)\n",
            "Requirement already satisfied: nvidia-nccl-cu12==2.18.1 in /usr/local/lib/python3.10/dist-packages (from torch==2.1.2->-r requirements.txt (line 14)) (2.18.1)\n",
            "Requirement already satisfied: nvidia-nvtx-cu12==12.1.105 in /usr/local/lib/python3.10/dist-packages (from torch==2.1.2->-r requirements.txt (line 14)) (12.1.105)\n",
            "Requirement already satisfied: triton==2.1.0 in /usr/local/lib/python3.10/dist-packages (from torch==2.1.2->-r requirements.txt (line 14)) (2.1.0)\n",
            "Requirement already satisfied: huggingface-hub<1.0,>=0.19.3 in /usr/local/lib/python3.10/dist-packages (from transformers==4.36.2->-r requirements.txt (line 16)) (0.20.3)\n",
            "Requirement already satisfied: tokenizers<0.19,>=0.14 in /usr/local/lib/python3.10/dist-packages (from transformers==4.36.2->-r requirements.txt (line 16)) (0.15.2)\n",
            "Requirement already satisfied: safetensors>=0.3.1 in /usr/local/lib/python3.10/dist-packages (from transformers==4.36.2->-r requirements.txt (line 16)) (0.4.3)\n",
            "Requirement already satisfied: GitPython!=3.1.29,>=1.0.0 in /usr/local/lib/python3.10/dist-packages (from wandb==0.16.1->-r requirements.txt (line 19)) (3.1.43)\n",
            "Requirement already satisfied: psutil>=5.0.0 in /usr/local/lib/python3.10/dist-packages (from wandb==0.16.1->-r requirements.txt (line 19)) (5.9.5)\n",
            "Requirement already satisfied: sentry-sdk>=1.0.0 in /usr/local/lib/python3.10/dist-packages (from wandb==0.16.1->-r requirements.txt (line 19)) (2.0.1)\n",
            "Requirement already satisfied: docker-pycreds>=0.4.0 in /usr/local/lib/python3.10/dist-packages (from wandb==0.16.1->-r requirements.txt (line 19)) (0.4.0)\n",
            "Requirement already satisfied: setproctitle in /usr/local/lib/python3.10/dist-packages (from wandb==0.16.1->-r requirements.txt (line 19)) (1.3.3)\n",
            "Requirement already satisfied: setuptools in /usr/local/lib/python3.10/dist-packages (from wandb==0.16.1->-r requirements.txt (line 19)) (67.7.2)\n",
            "Requirement already satisfied: appdirs>=1.4.3 in /usr/local/lib/python3.10/dist-packages (from wandb==0.16.1->-r requirements.txt (line 19)) (1.4.4)\n",
            "Requirement already satisfied: nvidia-nvjitlink-cu12 in /usr/local/lib/python3.10/dist-packages (from nvidia-cusolver-cu12==11.4.5.107->torch==2.1.2->-r requirements.txt (line 14)) (12.4.127)\n",
            "Requirement already satisfied: exceptiongroup in /usr/local/lib/python3.10/dist-packages (from anyio<5,>=3.5.0->openai==1.6.1->-r requirements.txt (line 7)) (1.2.1)\n",
            "Requirement already satisfied: six>=1.4.0 in /usr/local/lib/python3.10/dist-packages (from docker-pycreds>=0.4.0->wandb==0.16.1->-r requirements.txt (line 19)) (1.16.0)\n",
            "Requirement already satisfied: gitdb<5,>=4.0.1 in /usr/local/lib/python3.10/dist-packages (from GitPython!=3.1.29,>=1.0.0->wandb==0.16.1->-r requirements.txt (line 19)) (4.0.11)\n",
            "Requirement already satisfied: httpcore==1.* in /usr/local/lib/python3.10/dist-packages (from httpx[http2]>=0.20.0->bardapi==0.1.38->-r requirements.txt (line 2)) (1.0.5)\n",
            "Requirement already satisfied: h11<0.15,>=0.13 in /usr/local/lib/python3.10/dist-packages (from httpcore==1.*->httpx[http2]>=0.20.0->bardapi==0.1.38->-r requirements.txt (line 2)) (0.14.0)\n",
            "Requirement already satisfied: h2<5,>=3 in /usr/local/lib/python3.10/dist-packages (from httpx[http2]>=0.20.0->bardapi==0.1.38->-r requirements.txt (line 2)) (4.1.0)\n",
            "Requirement already satisfied: pytz>=2020.1 in /usr/local/lib/python3.10/dist-packages (from pandas>=1.2->seaborn==0.13.1->-r requirements.txt (line 13)) (2023.4)\n",
            "Requirement already satisfied: tzdata>=2022.1 in /usr/local/lib/python3.10/dist-packages (from pandas>=1.2->seaborn==0.13.1->-r requirements.txt (line 13)) (2024.1)\n",
            "Requirement already satisfied: lz4 in /usr/local/lib/python3.10/dist-packages (from browser-cookie3->bardapi==0.1.38->-r requirements.txt (line 2)) (4.3.3)\n",
            "Requirement already satisfied: pycryptodomex in /usr/local/lib/python3.10/dist-packages (from browser-cookie3->bardapi==0.1.38->-r requirements.txt (line 2)) (3.20.0)\n",
            "Requirement already satisfied: jeepney in /usr/lib/python3/dist-packages (from browser-cookie3->bardapi==0.1.38->-r requirements.txt (line 2)) (0.7.1)\n",
            "Requirement already satisfied: beautifulsoup4<5.0.0,>=4.9.1 in /usr/local/lib/python3.10/dist-packages (from deep-translator->bardapi==0.1.38->-r requirements.txt (line 2)) (4.12.3)\n",
            "Requirement already satisfied: google-api-core[grpc]!=2.0.*,!=2.1.*,!=2.10.*,!=2.2.*,!=2.3.*,!=2.4.*,!=2.5.*,!=2.6.*,!=2.7.*,!=2.8.*,!=2.9.*,<3.0.0dev,>=1.34.0 in /usr/local/lib/python3.10/dist-packages (from google-cloud-translate->bardapi==0.1.38->-r requirements.txt (line 2)) (2.11.1)\n",
            "Requirement already satisfied: google-cloud-core<3.0.0dev,>=1.3.0 in /usr/local/lib/python3.10/dist-packages (from google-cloud-translate->bardapi==0.1.38->-r requirements.txt (line 2)) (2.3.3)\n",
            "Requirement already satisfied: proto-plus<2.0.0dev,>=1.22.0 in /usr/local/lib/python3.10/dist-packages (from google-cloud-translate->bardapi==0.1.38->-r requirements.txt (line 2)) (1.23.0)\n",
            "Requirement already satisfied: MarkupSafe>=2.0 in /usr/local/lib/python3.10/dist-packages (from jinja2->torch==2.1.2->-r requirements.txt (line 14)) (2.1.5)\n",
            "Requirement already satisfied: mpmath>=0.19 in /usr/local/lib/python3.10/dist-packages (from sympy->torch==2.1.2->-r requirements.txt (line 14)) (1.3.0)\n",
            "Requirement already satisfied: soupsieve>1.2 in /usr/local/lib/python3.10/dist-packages (from beautifulsoup4<5.0.0,>=4.9.1->deep-translator->bardapi==0.1.38->-r requirements.txt (line 2)) (2.5)\n",
            "Requirement already satisfied: smmap<6,>=3.0.1 in /usr/local/lib/python3.10/dist-packages (from gitdb<5,>=4.0.1->GitPython!=3.1.29,>=1.0.0->wandb==0.16.1->-r requirements.txt (line 19)) (5.0.1)\n",
            "Requirement already satisfied: googleapis-common-protos<2.0.dev0,>=1.56.2 in /usr/local/lib/python3.10/dist-packages (from google-api-core[grpc]!=2.0.*,!=2.1.*,!=2.10.*,!=2.2.*,!=2.3.*,!=2.4.*,!=2.5.*,!=2.6.*,!=2.7.*,!=2.8.*,!=2.9.*,<3.0.0dev,>=1.34.0->google-cloud-translate->bardapi==0.1.38->-r requirements.txt (line 2)) (1.63.0)\n",
            "Requirement already satisfied: google-auth<3.0.dev0,>=2.14.1 in /usr/local/lib/python3.10/dist-packages (from google-api-core[grpc]!=2.0.*,!=2.1.*,!=2.10.*,!=2.2.*,!=2.3.*,!=2.4.*,!=2.5.*,!=2.6.*,!=2.7.*,!=2.8.*,!=2.9.*,<3.0.0dev,>=1.34.0->google-cloud-translate->bardapi==0.1.38->-r requirements.txt (line 2)) (2.27.0)\n",
            "Requirement already satisfied: grpcio<2.0dev,>=1.33.2 in /usr/local/lib/python3.10/dist-packages (from google-api-core[grpc]!=2.0.*,!=2.1.*,!=2.10.*,!=2.2.*,!=2.3.*,!=2.4.*,!=2.5.*,!=2.6.*,!=2.7.*,!=2.8.*,!=2.9.*,<3.0.0dev,>=1.34.0->google-cloud-translate->bardapi==0.1.38->-r requirements.txt (line 2)) (1.63.0)\n",
            "Requirement already satisfied: grpcio-status<2.0.dev0,>=1.33.2 in /usr/local/lib/python3.10/dist-packages (from google-api-core[grpc]!=2.0.*,!=2.1.*,!=2.10.*,!=2.2.*,!=2.3.*,!=2.4.*,!=2.5.*,!=2.6.*,!=2.7.*,!=2.8.*,!=2.9.*,<3.0.0dev,>=1.34.0->google-cloud-translate->bardapi==0.1.38->-r requirements.txt (line 2)) (1.48.2)\n",
            "Requirement already satisfied: hyperframe<7,>=6.0 in /usr/local/lib/python3.10/dist-packages (from h2<5,>=3->httpx[http2]>=0.20.0->bardapi==0.1.38->-r requirements.txt (line 2)) (6.0.1)\n",
            "Requirement already satisfied: hpack<5,>=4.0 in /usr/local/lib/python3.10/dist-packages (from h2<5,>=3->httpx[http2]>=0.20.0->bardapi==0.1.38->-r requirements.txt (line 2)) (4.0.0)\n",
            "Requirement already satisfied: cachetools<6.0,>=2.0.0 in /usr/local/lib/python3.10/dist-packages (from google-auth<3.0.dev0,>=2.14.1->google-api-core[grpc]!=2.0.*,!=2.1.*,!=2.10.*,!=2.2.*,!=2.3.*,!=2.4.*,!=2.5.*,!=2.6.*,!=2.7.*,!=2.8.*,!=2.9.*,<3.0.0dev,>=1.34.0->google-cloud-translate->bardapi==0.1.38->-r requirements.txt (line 2)) (5.3.3)\n",
            "Requirement already satisfied: pyasn1-modules>=0.2.1 in /usr/local/lib/python3.10/dist-packages (from google-auth<3.0.dev0,>=2.14.1->google-api-core[grpc]!=2.0.*,!=2.1.*,!=2.10.*,!=2.2.*,!=2.3.*,!=2.4.*,!=2.5.*,!=2.6.*,!=2.7.*,!=2.8.*,!=2.9.*,<3.0.0dev,>=1.34.0->google-cloud-translate->bardapi==0.1.38->-r requirements.txt (line 2)) (0.4.0)\n",
            "Requirement already satisfied: rsa<5,>=3.1.4 in /usr/local/lib/python3.10/dist-packages (from google-auth<3.0.dev0,>=2.14.1->google-api-core[grpc]!=2.0.*,!=2.1.*,!=2.10.*,!=2.2.*,!=2.3.*,!=2.4.*,!=2.5.*,!=2.6.*,!=2.7.*,!=2.8.*,!=2.9.*,<3.0.0dev,>=1.34.0->google-cloud-translate->bardapi==0.1.38->-r requirements.txt (line 2)) (4.9)\n",
            "Requirement already satisfied: pyasn1<0.7.0,>=0.4.6 in /usr/local/lib/python3.10/dist-packages (from pyasn1-modules>=0.2.1->google-auth<3.0.dev0,>=2.14.1->google-api-core[grpc]!=2.0.*,!=2.1.*,!=2.10.*,!=2.2.*,!=2.3.*,!=2.4.*,!=2.5.*,!=2.6.*,!=2.7.*,!=2.8.*,!=2.9.*,<3.0.0dev,>=1.34.0->google-cloud-translate->bardapi==0.1.38->-r requirements.txt (line 2)) (0.6.0)\n"
          ]
        }
      ],
      "source": [
        "!pip3 install -r requirements.txt"
      ]
    },
    {
      "cell_type": "code",
      "execution_count": 19,
      "metadata": {
        "colab": {
          "base_uri": "https://localhost:8080/"
        },
        "id": "ijhIN5CNi1PV",
        "outputId": "18fda851-ce90-4c8d-f3ec-7cc5c6490427"
      },
      "outputs": [
        {
          "output_type": "stream",
          "name": "stdout",
          "text": [
            "PYTHONPATH: /env/python:/content/drive/MyDrive/T5-Sentinel-public:/content/drive/MyDrive/T5-Sentinel-public:/content/drive/MyDrive/T5-Sentinel-public\n"
          ]
        }
      ],
      "source": [
        "import os\n",
        "\n",
        "# Set PYTHONPATH to include the project directory\n",
        "project_path = \"/content/drive/MyDrive/T5-Sentinel-public\"\n",
        "os.environ['PYTHONPATH'] += f\":{project_path}\"\n",
        "\n",
        "# Optional: Print PYTHONPATH to verify the change\n",
        "print(\"PYTHONPATH:\", os.environ['PYTHONPATH'])\n"
      ]
    },
    {
      "cell_type": "code",
      "execution_count": null,
      "metadata": {
        "colab": {
          "base_uri": "https://localhost:8080/"
        },
        "id": "f4HOXT-AP1XU",
        "outputId": "80f9c900-426f-413f-a6bc-abe522ad218c"
      },
      "outputs": [
        {
          "name": "stdout",
          "output_type": "stream",
          "text": [
            "Executing task:  sample_pca_t5_full_edge\n",
            "Reusing existing cache from cache/t5_full_hiddens.pt\n",
            "Reusing existing cache from cache/t5_full_hiddens.pt\n",
            "Reusing existing cache from cache/t5_full_hiddens.pt\n",
            "Reusing existing cache from cache/t5_full_hiddens.pt\n",
            "Reusing existing cache from cache/t5_full_hiddens.pt\n",
            "Reusing existing cache from cache/t5_full_predicts.pt\n",
            "Reusing existing cache from cache/t5_full_predicts.pt\n",
            "Reusing existing cache from cache/t5_full_predicts.pt\n",
            "Reusing existing cache from cache/t5_full_predicts.pt\n"
          ]
        }
      ],
      "source": [
        "!python3 evaluator/interpret/sample_pca.py"
      ]
    },
    {
      "cell_type": "code",
      "execution_count": null,
      "metadata": {
        "colab": {
          "base_uri": "https://localhost:8080/"
        },
        "id": "zf9XwwyZsgMJ",
        "outputId": "fe668f41-6ff7-4b6f-9795-26151c0d1ee9"
      },
      "outputs": [
        {
          "name": "stdout",
          "output_type": "stream",
          "text": [
            "Executing task:  plot_full_confusion_mat\n",
            "Reusing existing cache from cache/t5_full_predicts.pt\n",
            "Reusing existing cache from cache/t5_full_predicts.pt\n",
            "Reusing existing cache from cache/t5_full_predicts.pt\n",
            "Reusing existing cache from cache/t5_full_predicts.pt\n",
            "Reusing existing cache from cache/t5_full_predicts.pt\n",
            "Executing task:  implement\n",
            "Reusing existing cache from cache/t5_full_predicts.pt\n",
            "Reusing existing cache from cache/t5_full_predicts.pt\n",
            "Reusing existing cache from cache/t5_full_predicts.pt\n",
            "Reusing existing cache from cache/t5_full_predicts.pt\n",
            "Reusing existing cache from cache/t5_full_predicts.pt\n",
            "Executing task:  implement\n",
            "Reusing existing cache from cache/t5_full_predicts.pt\n",
            "Reusing existing cache from cache/t5_full_predicts.pt\n",
            "Reusing existing cache from cache/t5_full_predicts.pt\n",
            "Reusing existing cache from cache/t5_full_predicts.pt\n",
            "Reusing existing cache from cache/t5_full_predicts.pt\n",
            "Executing task:  implement\n",
            "Reusing existing cache from cache/t5_full_predicts.pt\n",
            "Reusing existing cache from cache/t5_full_predicts.pt\n",
            "Reusing existing cache from cache/t5_full_predicts.pt\n",
            "Reusing existing cache from cache/t5_full_predicts.pt\n",
            "Reusing existing cache from cache/t5_full_predicts.pt\n",
            "Executing task:  implement\n",
            "Reusing existing cache from cache/t5_full_predicts.pt\n",
            "Reusing existing cache from cache/t5_full_predicts.pt\n",
            "Reusing existing cache from cache/t5_full_predicts.pt\n",
            "Reusing existing cache from cache/t5_full_predicts.pt\n",
            "Reusing existing cache from cache/t5_full_predicts.pt\n",
            "Executing task:  plot_full_confusion_mat_compare\n",
            "Reusing existing cache from cache/t5_full_predicts.pt\n",
            "Reusing existing cache from cache/t5_full_predicts.pt\n",
            "Reusing existing cache from cache/t5_full_predicts.pt\n",
            "Reusing existing cache from cache/t5_full_predicts.pt\n",
            "Reusing existing cache from cache/t5_full_predicts.pt\n",
            "Reusing existing cache from cache/t5_full_predicts.pt\n",
            "Reusing existing cache from cache/t5_full_predicts.pt\n",
            "Reusing existing cache from cache/t5_full_predicts.pt\n",
            "Reusing existing cache from cache/t5_full_predicts.pt\n",
            "Reusing existing cache from cache/t5_full_predicts.pt\n",
            "Reusing existing cache from cache/t5_full_predicts.pt\n",
            "Reusing existing cache from cache/t5_full_predicts.pt\n",
            "Reusing existing cache from cache/t5_full_predicts.pt\n",
            "Reusing existing cache from cache/t5_full_predicts.pt\n",
            "Reusing existing cache from cache/t5_full_predicts.pt\n",
            "Reusing existing cache from cache/t5_full_predicts.pt\n",
            "Reusing existing cache from cache/t5_full_predicts.pt\n",
            "Reusing existing cache from cache/t5_full_predicts.pt\n",
            "Reusing existing cache from cache/t5_full_predicts.pt\n",
            "Reusing existing cache from cache/t5_full_predicts.pt\n"
          ]
        }
      ],
      "source": [
        "!python3 evaluator/plot/*.py"
      ]
    },
    {
      "cell_type": "code",
      "execution_count": 20,
      "metadata": {
        "colab": {
          "base_uri": "https://localhost:8080/"
        },
        "id": "Q7-I7BIflZUz",
        "outputId": "1b75d2dd-9583-4f3a-bfa1-5ca46df4a3d0"
      },
      "outputs": [
        {
          "output_type": "stream",
          "name": "stdout",
          "text": [
            "\u001b[34m\u001b[1mwandb\u001b[0m: Currently logged in as: \u001b[33mharshavana\u001b[0m. Use \u001b[1m`wandb login --relogin`\u001b[0m to force relogin\n",
            "\u001b[34m\u001b[1mwandb\u001b[0m: wandb version 0.16.6 is available!  To upgrade, please run:\n",
            "\u001b[34m\u001b[1mwandb\u001b[0m:  $ pip install wandb --upgrade\n",
            "\u001b[34m\u001b[1mwandb\u001b[0m: Tracking run with wandb version 0.16.1\n",
            "\u001b[34m\u001b[1mwandb\u001b[0m: Run data is saved locally in \u001b[35m\u001b[1m/content/drive/MyDrive/T5-Sentinel-public/wandb/run-20240504_003325-5gk3khsd\u001b[0m\n",
            "\u001b[34m\u001b[1mwandb\u001b[0m: Run \u001b[1m`wandb offline`\u001b[0m to turn off syncing.\n",
            "\u001b[34m\u001b[1mwandb\u001b[0m: Resuming run \u001b[33mt5-small.0613.b\u001b[0m\n",
            "\u001b[34m\u001b[1mwandb\u001b[0m: ⭐️ View project at \u001b[34m\u001b[4mhttps://wandb.ai/harshavana/llm-sentinel\u001b[0m\n",
            "\u001b[34m\u001b[1mwandb\u001b[0m: 🚀 View run at \u001b[34m\u001b[4mhttps://wandb.ai/harshavana/llm-sentinel/runs/5gk3khsd\u001b[0m\n",
            "Copied detector/t5_sentinel/__init__.py to /content/drive/MyDrive/T5-Sentinel-public/wandb/run-20240504_003325-5gk3khsd/files/__init__.py\n",
            "Copied detector/t5_sentinel/__main__.py to /content/drive/MyDrive/T5-Sentinel-public/wandb/run-20240504_003325-5gk3khsd/files/__main__.py\n",
            "Copied detector/t5_sentinel/dataset.py to /content/drive/MyDrive/T5-Sentinel-public/wandb/run-20240504_003325-5gk3khsd/files/dataset.py\n",
            "Copied detector/t5_sentinel/model.py to /content/drive/MyDrive/T5-Sentinel-public/wandb/run-20240504_003325-5gk3khsd/files/model.py\n",
            "Copied detector/t5_sentinel/settings.yaml to /content/drive/MyDrive/T5-Sentinel-public/wandb/run-20240504_003325-5gk3khsd/files/settings.yaml\n",
            "Copied detector/t5_sentinel/types.py to /content/drive/MyDrive/T5-Sentinel-public/wandb/run-20240504_003325-5gk3khsd/files/types.py\n",
            "Copied detector/t5_sentinel/utilities.py to /content/drive/MyDrive/T5-Sentinel-public/wandb/run-20240504_003325-5gk3khsd/files/utilities.py\n",
            "Loaded model checkpoint from data/checkpoint/T5Sentinel.0613.pt\n",
            "Resuming from epoch 0 with best validation accuracy 0.9417587894164552\n",
            "Epoch 1\n",
            "/usr/lib/python3.10/multiprocessing/popen_fork.py:66: RuntimeWarning: os.fork() was called. os.fork() is incompatible with multithreaded code, and JAX is multithreaded, so this will likely lead to a deadlock.\n",
            "  self.pid = os.fork()\n",
            "Training: 100%|███████████████████████████████████| 942/942 [07:39<00:00,  2.05it/s, loss=1.893242, accuracy=66.898885%]\n",
            "Validating: 100%|████████████████████████████████████████████████| 192/192 [00:34<00:00,  5.61it/s, accuracy=61.197917%]\n",
            "Training Accuracy 66.90%\n",
            "Training Loss 1.8932\n",
            "Validation Accuracy 61.20%\n",
            "Learning Rate 0.0001\n",
            "Epoch 2\n",
            "Training: 100%|███████████████████████████████████| 942/942 [07:38<00:00,  2.05it/s, loss=0.261951, accuracy=80.268047%]\n",
            "Validating: 100%|████████████████████████████████████████████████| 192/192 [00:34<00:00,  5.57it/s, accuracy=60.286458%]\n",
            "Training Accuracy 80.27%\n",
            "Training Loss 0.2620\n",
            "Validation Accuracy 60.29%\n",
            "Learning Rate 0.0001\n",
            "Epoch 3\n",
            "Training: 100%|███████████████████████████████████| 942/942 [07:39<00:00,  2.05it/s, loss=0.224880, accuracy=83.061306%]\n",
            "Validating: 100%|████████████████████████████████████████████████| 192/192 [00:34<00:00,  5.57it/s, accuracy=62.858073%]\n",
            "Training Accuracy 83.06%\n",
            "Training Loss 0.2249\n",
            "Validation Accuracy 62.86%\n",
            "Learning Rate 0.0001\n",
            "Epoch 4\n",
            "Training: 100%|███████████████████████████████████| 942/942 [07:39<00:00,  2.05it/s, loss=0.205125, accuracy=84.341826%]\n",
            "Validating: 100%|████████████████████████████████████████████████| 192/192 [00:34<00:00,  5.55it/s, accuracy=65.136719%]\n",
            "Training Accuracy 84.34%\n",
            "Training Loss 0.2051\n",
            "Validation Accuracy 65.14%\n",
            "Learning Rate 0.0001\n",
            "Epoch 5\n",
            "Training: 100%|███████████████████████████████████| 942/942 [07:39<00:00,  2.05it/s, loss=0.190574, accuracy=85.774947%]\n",
            "Validating: 100%|████████████████████████████████████████████████| 192/192 [00:34<00:00,  5.58it/s, accuracy=62.402344%]\n",
            "Training Accuracy 85.77%\n",
            "Training Loss 0.1906\n",
            "Validation Accuracy 62.40%\n",
            "Learning Rate 0.0001\n",
            "Epoch 6\n",
            "Training: 100%|███████████████████████████████████| 942/942 [07:39<00:00,  2.05it/s, loss=0.178615, accuracy=86.358811%]\n",
            "Validating: 100%|████████████████████████████████████████████████| 192/192 [00:34<00:00,  5.56it/s, accuracy=62.565104%]\n",
            "Training Accuracy 86.36%\n",
            "Training Loss 0.1786\n",
            "Validation Accuracy 62.57%\n",
            "Learning Rate 0.0001\n",
            "Epoch 7\n",
            "Training: 100%|███████████████████████████████████| 942/942 [07:39<00:00,  2.05it/s, loss=0.169831, accuracy=87.188163%]\n",
            "Validating: 100%|████████████████████████████████████████████████| 192/192 [00:34<00:00,  5.59it/s, accuracy=65.625000%]\n",
            "Training Accuracy 87.19%\n",
            "Training Loss 0.1698\n",
            "Validation Accuracy 65.62%\n",
            "Learning Rate 0.0001\n",
            "Confusion Matrix:\n",
            " [[519  30 241   0]\n",
            " [ 15 729  46   0]\n",
            " [ 44  10 736   0]\n",
            " [400  51 211  30]]\n",
            "Test Metrics: {'Accuracy': 0.6555989583333334, 'Precision': 0.603226719335036, 'Recall': 0.7108254895596667, 'F1 Score': 0.46038681497949446}\n",
            "/usr/lib/python3.10/multiprocessing/popen_fork.py:66: RuntimeWarning: os.fork() was called. os.fork() is incompatible with multithreaded code, and JAX is multithreaded, so this will likely lead to a deadlock.\n",
            "  self.pid = os.fork()\n",
            "Text: La semana pasada, te trajimos el relato de las nerds de las niñas negras sobre el tiroteo de Darrien Hunt, el hombre de Utah de 22 años que fue asesinado por la policía por \"blandir una espada\" que no era una espada real en absoluto.De manera deprimente, el asesinato de Hunt es parte de un patrón demasiado común de asesinatos de alto perfil de hombres negros desarmados por aquellos que han jurado protegerlos y servirlos.\n",
            "\n",
            "La muerte de Darrien Hunt no ocurrió en un vacío.A raíz de casos similares en Staten Island con Eric Garner, o Ferguson con Michael Brown, y Ohio con John Crawford1, y estos casos son solo de este verano: los principales medios de comunicación y la sociedad en general están prestando atención más de lo que han tenido enel pasado.\n",
            "\n",
            "Sin embargo, la muerte de Hunt ha resonado particularmente en las comunidades nerd de color de una manera que las injusticias anteriores no lo han hecho.En parte, puede deberse al hecho de que los primeros informes parecían sugerir que Hunt pudo haber estado costados en el momento en que fue asesinado.\n",
            "\n",
            "Si bien los hechos que rodean si realmente estaba cosplaying ha sido un tema de debate, su muerte definitivamente ha captado la atención de la comunidad nerd.Incluso si Hunt no era un cosplayer, las imágenes de su cuaderno de bocetos lanzados por su familia hoy sugieren que, como la mayoría de los jóvenes de su edad, tenía afinidad por el anime y la cultura de manga.\n",
            "\n",
            "Más bocetos de estilo manga/cómico de #Darrienhunt encontrado por su familia después de su muerte por disparos policiales en Utah pic.twitter.com/74hfjbnr7h-Jon Swaine (@Jonswaine) 22 de septiembre de 2014\n",
            "\n",
            "Una vez más, realmente no sabemos si Hunt era un nerd de color o un cosplayer o simplemente un tipo que intenta almorzar (o un trabajo) en Panda Express.Y honestamente, no importa.El Nerd of Color Community tiene todo el derecho de indignarse por esta muerte sin sentido.Así como deberíamos estar omitidos similares por John Crawford.Y Michael Brown.Y Eric Garner.Y Trayvon Martin.Y Oscar Grant.Y Sean Bell.Y Tim Stansbury.Y Amadou Diallo.Podría continuar, pero es demasiado molesto.\n",
            "\n",
            "Nueve días después de que Hunt recibió un disparo mortal, el Departamento de Policía de Saratoga Springs lanzó los nombres de los dos oficiales involucrados en el Shooting2.En respuesta, hay una petición MoveOn.org que se distribuye que está pidiendo una \"Junta de Revisión de Ciudadanos\" para reformar la contratación y capacitación del oficial de policía en Utah.\n",
            "\n",
            "Mientras tanto, Utah y Ohio son dos estados, por cierto, donde en realidad es legal \"abierto de transporte\".En Tumblr, el escritor Keith Boykins nos recuerda este hecho cuando compartió la siguiente imagen.\n",
            "\n",
            "Durante el mismo verano en el que los hombres negros desarmados estaban siendo asesinados por la policía por la policía, también tuvo un aumento en el movimiento de transporte abierto en el que tenían tripulaciones enteras de hombres blancos que pasean por los chipótulos y los objetivos que blandían AR-15 y escopetas a\"Ejercar sus derechos de la Segunda Enmienda\".Porque debe empacar el calor al comer burritos y/o comprar artículos de tocador.¿Alguien quiere adivinar cuántas de estas personas fueron retiradas por la policía?\n",
            "\n",
            "Pero si un hombre negro lleva una espada de cosplay a un Panda Express en Utah (o se apoya en una pistola de juguete mientras habla en su celda en un Wal-Mart en Ohio), es mejor que llame al 911.\n",
            "\n",
            "Bienvenido a la América Post-Racial.\n",
            "Predicted Label: 2\n",
            "True Label: 0\n",
            "\n",
            "Text: de la circunscripción pro-armas. Todo el campo, es decir, a excepción de Donald Trump.El magnate inmobiliario y la estrella de televisión de realidad han optado, al menos hasta ahora;Es notoriamente impredecible cuando se trata de sus planes políticos.* Y yo digo: ¡Buen Ridance!Fue bastante malo tenerlo en el último debate. *Por lo que queremos decir que si estás pasando por el infierno, sigue en curso de todos modos.\n",
            "Predicted Label: 2\n",
            "True Label: 3\n",
            "\n",
            "Text: El sentido común dicta si está tratando de renegociar con éxito en cuatro años lo que no ha sido posible en cuarenta años, comienza de inmediato.A pesar de esto, un año y medio, el Primer Ministro aún no ha intentado corregir nuestra relación con Bruselas, para disgusto de su apoyo de base.\n",
            "\n",
            "Mientras tanto, la influencia de Gran Bretaña en la UE continúa disminuyendo.Lo que anteriormente era una ambición poco realista se ha vuelto completamente imposible.\n",
            "\n",
            "Un artículo del Grupo Bruges publicado el año pasado proporcionó una instantánea de la capacidad de nuestro gobierno para influir en la legislación de la UE.Concluyó con solo 29 de los 352 votos en el Consejo de Ministros, 73 de los 751 eurodiputados en el Parlamento Europeo y sin aliados, la influencia de Gran Bretaña es prácticamente inexistente.Con los cambios en la votación en el Consejo de Ministros inminentes, la poca influencia que tenemos es disminuir aún más.\n",
            "\n",
            "A partir del 1 de noviembre, el sistema por el cual se votan las decisiones en los cambios del Consejo de Ministros.La fortaleza de votación de cada país se vinculará directamente con el tamaño de su población.Esto significa que el peso de Gran Bretaña en la toma de decisiones del consejo aumentará del 8 al 12 por ciento, con el umbral para bloquear la legislación del 35 por ciento.\n",
            "\n",
            "Si bien este ligero aumento parece fortalecer la capacidad de Gran Bretaña para salvaguardar sus intereses en la UE, este no es el caso.Los aliados tradicionales de Gran Bretaña contra la burocracia de Bruselas hinchadas, los Países Bajos, Dinamarca y Suecia, están reduciendo su fuerza de votación, lo que dificultará que Gran Bretaña forme una coalición para bloquear la legislación no deseada.\n",
            "\n",
            "Mientras tanto, los países de la eurozona pro integración, Francia, Alemania e Italia, están recibiendo grandes impulso a su ponderación, con el aumento del 7 por ciento de Alemania.La fuerza total de la eurozona está aumentando del 62 al 66 por ciento, lo suficiente como para forzar la legislación, incluso si Gran Bretaña y los países no eurozona resisten.La fuerza del caucus de la eurozona solo puede aumentar, con todos los Estados miembros, aparte de que Gran Bretaña y Dinamarca, finalmente se les obligó obligado a unirse al euro, comenzando con Lituania el 1 de enero.\n",
            "\n",
            "Robert Ouzs, director del Grupo Bruges hoy dijo: “Este análisis excelente y oportuno muestra que la UE representa una nueva amenaza para nuestra democracia y autogobierno.La capacidad de Gran Bretaña para resistir nuevas reglas que no sean de nuestro interés se reducirá.Nuestras instituciones nacionales demócratas ahora tienen menos influencia sobre las reglas que dan forma a nuestras vidas. Con la mayoría de las nuevas leyes que afectan a este país a través de la Unión Europea, es hora de que reclamamos nuestra democracia.Para hacer esto, Gran Bretaña debe salir de la UE ”.\n",
            "\n",
            "Con la influencia de Gran Bretaña en la UE ya en declive, y se puso a Nosedive bruscamente después del 1 de noviembre, es poco probable que el plan de renegociación de Cameron tenga éxito.Cuanto antes el Partido Conservador y los activistas de base lo reconocen, antes podemos decidir si sacar o no a Gran Bretaña de la Unión Europea en 2017.\n",
            "\n",
            "Luke Stanley, asistente de investigación en Get Britain Out\n",
            "Predicted Label: 2\n",
            "True Label: 0\n",
            "\n",
            "Text: Nevermind ahora está disponible para el acceso temprano\n",
            "\n",
            "¿Interesado en un juego que realmente quiere entrar en tu cabeza?Nevermind acaba de estar disponible para el acceso temprano en Steam, y las impresiones positivas están entrando lentamente.\n",
            "\n",
            "Solo desde la primera mirada en el trailer, el mundo de Nevermind parece algo que solo experimentó en las peores pesadillas.Ese no es todo el desarrollador Flying Mollusk trae a la mesa con su título tampoco.Nevermind no es la misma experiencia que has tenido con cualquier otro juego de terror, ya que usa Intel Realsense para avanzar en tu terror.\n",
            "\n",
            "Mientras juegan Nevermind, los jugadores pueden usar una cámara compatible con RealSense para el seguimiento de biorretroalimentación, y apoyarán monitores de frecuencia cardíaca en el futuro.Usando sus comentarios, no importa su experiencia a cómo responde al mundo que lo rodea.A medida que su pánico se intensifica, el entorno inquietante del mundo en Nevermind reacciona.\n",
            "\n",
            "¿Interesado?Echa un vistazo a Nevermind en Steam.\n",
            "Predicted Label: 2\n",
            "True Label: 0\n",
            "\n",
            "Text: potencia de fuego por la maniobrabilidad y la velocidad, un tema que se ha vuelto aún más pronunciado desde que Rusia resurgió como un estado independiente después de su colapso de comunismo a fines de diciembre de los 90;Fue este deseo el que llevó al gobierno ruso en el siglo XXI a encargar a varios aviones que se construyan en base a diseños de la Segunda Guerra Mundial.El luchador Yak-3 ahora está siendo trasladado una vez más por los pilotos ansiosos por un regreso de su legendaria maniobrabilidad y velocidad, así como una potencia de fuego muy real en forma de armamento hardcore como vainas de cohetes o cañones montados en bastidores de alas. Diseñado específicamente para ser un excelente perrito durante la Segunda Guerra Mundial por el diseñador de aviones Alexander Yakovlev (que también diseñó otros diseños legendarios, como MIG -3, MIG '9 y el posterior MIG -21), este pequeño pero feroz luchador contó con una velocidad máximade aproximadamente Mach .85, que fue lo suficientemente rápido como para atrapar a cualquier fuerza aérea aliada en ese momento. El diseño Yak –3 (descrito por muchos como un avión \"con agallas\") incorporó el enfoque de doble motor utilizado en otros diseños como el P 102 y ME -9, pero sin sacrificar el rendimiento por su propia cuenta tampoco;De hecho, fue más rápido que ambos.Sin embargo, al igual que con mucho más de la tabla de diseño de Yakovlev (y dada su reputación de ser un diseñador de aviones capaz en el arte), esta velocidad solo podría alcanzarse\n",
            "Predicted Label: 0\n",
            "True Label: 3\n",
            "\n",
            "Examples of Correct Predictions:\n",
            "Text: Una encuesta realizada por la Marina de los EE. UU. encontró que los marineros están cada vez más insatisfechos con los despliegues largos, el alto ritmo de operación y la propuesta de reducción de salarios y beneficios.\n",
            "\n",
            "Además, hay menos marineros de la Marina que aspiran a obtener puestos en manos de sus superiores, debido a la desconfianza generalizada en el liderazgo de la Marina, según una encuesta independiente.\n",
            "\n",
            "\"Es más probable que los marineros abandonen el servicio debido a la percepción de un ritmo operativo cada vez más alto, un desequilibrio entre el trabajo y la vida, una baja moral en todo el servicio, una disminución en los salarios y beneficios, una reducción en las oportunidades de liderazgo y una falta de confianza en los líderes de alto nivel, todo lo cual afecta la lealtad a la institución\", dice la encuesta.\n",
            "\n",
            "La encuesta preguntó a los marineros sobre sus trabajos, calidad de vida y problemas con el liderazgo de alto nivel. En total, 5,536 marineros respondieron a la encuesta. La mayoría eran oficiales y alistados por igual.\n",
            "\n",
            "En cuanto al ritmo operativo, los encuestados parecen indicar que esperan que los despliegues sean más largos. Según los resultados, el 42% de los marineros que respondieron dijeron que su último despliegue duró entre siete y nueve meses.\n",
            "\n",
            "Aproximadamente el 48% de los marineros esperan que su próximo despliegue dure entre ocho y diez meses. Estas estimaciones son significativamente más altas que la duración promedio de seis meses que la Marina ha presentado.\n",
            "\n",
            "Los marineros también\n",
            "Predicted Label: 1\n",
            "True Label: 1\n",
            "\n",
            "Text: Hemos desarrollado un nuevo tipo de interfaz de máquina cerebral que permite a un operador humano controlar los robots del tamaño de nanómetro dentro de un animal vivo utilizando la actividad cerebral.La actividad cerebral del operador se registra utilizando electroencefalografía (EEG), y se usa un algoritmo para traducir las señales EEG en comandos que controlan el estado de un campo electromagnético.Luego, el campo induce el calentamiento local de miles de millones de robots de origami de ADN que activan mecánicamente que están atados a nanopartículas de metal.Este calentamiento hace que los robots se activen reversiblemente, lo que a su vez expone una carga útil bioactiva.Como prueba de concepto, hemos demostrado que esta tecnología puede usarse para activar robots de ADN dentro del insecto Blaberus discoidalis en respuesta a una tarea cognitivamente exigente.Esta tecnología tiene el potencial de usarse para controlar las moléculas bioactivas en respuesta al estado cognitivo de un sujeto, lo que podría tener implicaciones para el tratamiento de trastornos como la esquizofrenia, la depresión y el trastorno por déficit de atención (TDAH).\n",
            "Predicted Label: 2\n",
            "True Label: 2\n",
            "\n",
            "Text: CARY, NC - Los ciudadanos de Cary pueden ver los planes preliminares de desarrollo para Cary Towne Center en el sitio web oficial de la ciudad. Estos planes están siendo comparados con la configuración actual del centro comercial para dar una idea de las propuestas.\n",
            "\n",
            "Para ver el plan completo, puedes visitar la página de revisión del plan en el sitio web de la ciudad de Cary e iniciar sesión como invitado. En resumen, el plan incluye un esquema de colores que indica diferentes usos para cada área, como uso mixto, minorista, restaurantes, residencial, hotel, espacio abierto y estacionamiento.\n",
            "\n",
            "Uno de los cambios más notables es la incorporación de un edificio de IKEA, que reemplazará a Macy's y Sears, así como parte del patio de comidas. Además, el resto del patio de comidas y la mayoría de las tiendas del centro comercial serán eliminados para dar paso a una nueva configuración de edificios más pequeños con una variedad de usos.\n",
            "\n",
            "El plan también incluye un área residencial con un máximo de 400 unidades, un hotel con 150 habitaciones, un restaurante y dos espacios para reuniones comunitarias. Se construirán dos estacionamientos, uno de los cuales ya ha sido aprobado por el Ayuntamiento de Cary.\n",
            "\n",
            "Otro cambio importante es la construcción de un hotel y un restaurante en la esquina de Cary Towne Boulevard y Se Maynard Road. Esta área actualmente es un terreno vacío donde solían estar algunas empresas.\n",
            "\n",
            "El último edificio propuesto en el plan es un uso mixto y un restaurante, que reemplazará una sección de árboles y parte de la carretera que conduce al centro comercial. Sin embargo, hay cierta incertidumbre sobre el uso previsto de este\n",
            "Predicted Label: 1\n",
            "True Label: 1\n",
            "\n",
            "Text: Un hombre iraní lleva 35 días en huelga de hambre en un hotel de Sligo que funciona como centro de asilo. Amjad Rosstami se encuentra en el centro de la ciudad y ha recibido una orden de deportación debido a que su solicitud de asilo fue rechazada, ya que previamente había aterrizado en el Reino Unido antes de llegar a Irlanda. Según la ley europea, el proceso de asilo debe llevarse a cabo en el primer país en el que se haya aterrizado. El representante local, Marc MacSharry, se reunió con la Ministra de Justicia, Frances Fitzgerald, la semana pasada para discutir el caso. Sin embargo, no se le permitió ver a Rosstami en el centro y fue referido a la Agencia de Recepción e Integración (RIA). MacSharry calificó la situación de vergonzosa y cuestionó si hay una mejor manera de abordar el tema de la provisión directa y el encarcelamiento de personas. Una publicación de Facebook compartida ampliamente ha destacado el caso y lo ha calificado como una realidad en Irlanda. El departamento de Justicia se ha negado a comentar sobre el caso, citando su obligación de proteger la identidad de las personas en el proceso de asilo. Actualmente, alrededor de 5,000 personas se encuentran en centros de provisión directa en Irlanda.\n",
            "Predicted Label: 1\n",
            "True Label: 1\n",
            "\n",
            "Text: 1. David Cameron quiere que los consejos consideren si alguien más podría administrar sus servicios mejor.\n",
            "\n",
            "El Consejo del Condado de Suffolk es un ejemplo de un consejo que tomó esta idea y corrió con ella.Subcontrataron los servicios con una suma de decenas de millones de libras.\n",
            "\n",
            "Sin embargo, el consejo ha estado en desorden, y el título de \"nueva dirección estratégica\" se ha retirado.\n",
            "\n",
            "El viernes, un comité disciplinario se reunirá para considerar el futuro de la directora ejecutiva Andrea Hill.\n",
            "\n",
            "2. El nuevo líder conservador del Consejo Mark Bee dice que quiere estabilizar el barco después de los tumultuosos eventos de los últimos meses.\n",
            "\n",
            "Le dijo a la BBC que pretende ser mucho más pragmático y mucho menos dogmático.\n",
            "\n",
            "\"Intentamos hacer las cosas demasiado rápido. Tienes que tratar de ayudar a las personas a asumir servicios a un ritmo que sea más realista\".\n",
            "\n",
            "3. Lo que ha hecho que esta historia se cargue tan políticamente es el hecho de que el programa de outsourcing se estaba intentando en un momento de creciente interés en los medios en el director ejecutivo solicitado que lo implementara.\n",
            "\n",
            "Andrea Hill fue contratada con un salario de £ 218,000.Decidió renunciar a dos posibles aumentos salariales, pero, a pesar de la presión del secretario de comunidades Eric Pickles, se negó a tomar un recorte salarial.Esto fue en un momento en que todos los consejos estaban viendo sus fondos exprimidos, y buscaban con urgencia ahorros.\n",
            "\n",
            "A lo largo de la saga, ha sido defendida por la asociación de directores ejecutivos de la autoridad local.La describe como una \"ejecutiva de primera clase\".Se dice que cree que no hay sustancia en las acusaciones en su contra, que aún no se han hecho públicas, y está ansioso por volver al trabajo.\n",
            "\n",
            "4. Hubo un desarrollo trágico en abril.David White, un oficial legal superior con 20 años de experiencia en el consejo, fue encontrado muerto en Woods no muy lejos de Ipswich.Se sospechaba el suicidio.\n",
            "\n",
            "Paul Geater, corresponsal del gobierno local del East Anglian Daily Times, dice que algunas de las acusaciones de denunciantes parecían provenir del departamento donde trabajaba el Sr. White.\n",
            "\n",
            "5. El Dr. Dan Poulter, diputado conservador de Central Suffolk y North Ipswich, ha pedido que el director ejecutivo renuncie.\n",
            "\n",
            "\"Creo que muchos residentes estarán encantados de ver a Andrea Hill irse\", dijo.\"Ella ha parecido arrogante y alejada de la gente\".\n",
            "\n",
            "Hasta ahora, la Sra. Hill no ha mostrado ningún deseo de dejar de fumar, pero los consejos de todo el país están observando para ver cómo se desarrolla esto.\n",
            "Predicted Label: 2\n",
            "True Label: 2\n",
            "\n",
            "\u001b[34m\u001b[1mwandb\u001b[0m: \u001b[33mWARNING\u001b[0m No requirements.txt found, not creating job artifact. See https://docs.wandb.ai/guides/launch/create-job\n",
            "\u001b[34m\u001b[1mwandb\u001b[0m: \n",
            "\u001b[34m\u001b[1mwandb\u001b[0m: Run history:\n",
            "\u001b[34m\u001b[1mwandb\u001b[0m:       Learning Rate ▁▁▁▁▁▁▁\n",
            "\u001b[34m\u001b[1mwandb\u001b[0m:   Training Accuracy ▁▆▇▇███\n",
            "\u001b[34m\u001b[1mwandb\u001b[0m:       Training Loss █▁▁▁▁▁▁\n",
            "\u001b[34m\u001b[1mwandb\u001b[0m: Validation Accuracy ▂▁▄▇▄▄█\n",
            "\u001b[34m\u001b[1mwandb\u001b[0m: \n",
            "\u001b[34m\u001b[1mwandb\u001b[0m: Run summary:\n",
            "\u001b[34m\u001b[1mwandb\u001b[0m:       Learning Rate 0.0001\n",
            "\u001b[34m\u001b[1mwandb\u001b[0m:   Training Accuracy 87.18816\n",
            "\u001b[34m\u001b[1mwandb\u001b[0m:       Training Loss 0.16983\n",
            "\u001b[34m\u001b[1mwandb\u001b[0m: Validation Accuracy 65.625\n",
            "\u001b[34m\u001b[1mwandb\u001b[0m: \n",
            "\u001b[34m\u001b[1mwandb\u001b[0m: 🚀 View run \u001b[33mt5-small.0613.b\u001b[0m at: \u001b[34m\u001b[4mhttps://wandb.ai/harshavana/llm-sentinel/runs/5gk3khsd\u001b[0m\n",
            "\u001b[34m\u001b[1mwandb\u001b[0m: Synced 3 W&B file(s), 0 media file(s), 0 artifact file(s) and 7 other file(s)\n",
            "\u001b[34m\u001b[1mwandb\u001b[0m: Find logs at: \u001b[35m\u001b[1m./wandb/run-20240504_003325-5gk3khsd/logs\u001b[0m\n"
          ]
        }
      ],
      "source": [
        "!python3 detector/t5_sentinel/__main__.py"
      ]
    }
  ],
  "metadata": {
    "accelerator": "GPU",
    "colab": {
      "gpuType": "T4",
      "provenance": []
    },
    "kernelspec": {
      "display_name": "Python 3",
      "name": "python3"
    },
    "language_info": {
      "name": "python"
    }
  },
  "nbformat": 4,
  "nbformat_minor": 0
}